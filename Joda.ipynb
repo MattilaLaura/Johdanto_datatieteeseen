{
 "cells": [
  {
   "cell_type": "markdown",
   "metadata": {},
   "source": [
    "# Oppimispäiväkirja\n",
    "Laura Mattila, Johdatus datatieteisiin"
   ]
  },
  {
   "cell_type": "markdown",
   "metadata": {},
   "source": [
    "# Viikko 1:\n",
    "\n",
    "Osallistuin ensimmäisellä viikolla avausluennolle luentotallenteen kautta ja demoluennolle osallistuin silloin kun se pidettiin. Tämän seurauksena tämän viikon oppimispäiväkirja-aineisto koostuu viikon luennoista sekä sen lisäksi myös hieman ennakkotehtävänä annetusta Hans Roslingin TED-puheesta. \n",
    "\n",
    "Tämän viikon aiheena oli johdattelu aiheeseen datatiede, minkä seurauksena keskusteltiin datatieteestä yleisesti sekä sivuttiin muun muassa keinoja, joita datatieteilijä hyödyntää työssään. Luennon perusteella kävi ilmi, että datatiede on laaja-alainen tieteenala, joka muodostuu viidestä eri osa-alueesta: viestinnästä, tilastotieteestä, ohjelmoinnista sekä liiketoiminnasta. Usein datatiede rinnastetaan esimerkiksi tilastotieteen kanssa samaksi, mutta tämä ei kuitenkaan vastaa totuutta, sillä tilastotiede on vain yksi osa datatieteen kokonaisuutta. Koska Datatieteessä on paljon osa-alueita, tulisi datatieteilijällä olla tietämystä kattavasti monelta eri alueelta. Yhden henkilön on kuitenkin lähes mahdotonta osata kaikkea, minkä seurauksena luennolla kävi ilmi, että datatiedettä on järkevintä harjoittaa tiimeissä, joissa jokaisella on omat osaamisalueensa. Tällöin on myös tärkeää tunnistaa eri tiiminjäsenten vahvuudet, jotta voidaan saavuttaa paras mahdollinen hyöty. Tiimeissä toimiminen voi olla osaamisen laajuuden lisäksi hyödyllistä myös siksi, että tiimin eri jäsenet tuovat uusia näkökulmia asioihin, jolloin ratkaisut ovat mahdollisesti monipuolisempia.\n",
    "\n",
    "Luennolla käytiin myös läpi ilmiöitä, jotka ovat olennaisia osia datatiedettä. Esimerkiksi big data on nykymaailmassa hyvin paljon esillä ja sen avulla voidaan mahdollisesti saavuttaa merkittäviä hyötyjä. Kuitenkin siinä on myös ongelmansa, sillä  big data ei ole kaikkien saatavilla ja käytettävissä. Lisäksi big datan haltuunottamiseen kuluu huomattavasti aikaa ja vaivaa, jotta siitä voidaan saada järkevää tietoa irti. Lisäksi luennolla käsiteltiin myös tarinankerrontaa datan avulla, jossa myös on sekä hyötyjä että vaaroja. Tarinankerronta datan avulla on apuväline, jolla havainnollistetaan dataa tarinan muodossa. Se on toimiva joissain tilanteissa, mutta sen käytön kanssa tulee olla tarkka, sillä ihmiset sisäistävät tarinoita helposti, minkä seurauksena tulee miettiä tarkasti, mitä sisältöä tarinassa on. Hans Roslingin TED-puheeseen sisältyi huomattavasti tarinankerrontaa datan avulla ja sen seurauksena sai selvän käsityksen siitä, miksi tarinankerronta datan avulla on niin vaikuttava keino. Rosling havainnollisti puheessaan muun muassa lapsikuolleisuutta suhteessa maiden varallisuuteen liikkuvien datapallojen avulla, jotka kuvastivat eri maita. Se, että dataa visualisoidaan niin, että sen muuttumista voidaan seurata hetki hetkeltä ja se selostetaan tarinan muodossa herättää heti mielenkiinnon aihetta kohtaan sekä auttaa hahmottamaan kokonaiskuvan paremmin. Rosling havainnolisti puheensa aikana myös erittäin kuvaavasti sitä, miksi dataa on olennaista hyödyntää ja visualisoida Afrikka-esimerkkinsä avulla. Usein Afrikka mielletään yhdeksi ja samaksi alueeksi, jossa kaikki on samalla tavalla, mutta kun data siihen liittyen visualisoidaan, huomataan, että esimerkiksi varallisuus ja lapsikuolleisuus ovat täysin eri tasolla eri Afrikan maissa ja maiden eri alueilla. Tämän seurauksena dataa on siis olennaista kerätä ja hyödyntää, jotta voidaan soveltaa oikeita keinoja kuhunkin alueeseen, eikä vain olettaa samojen keinojen toimivan kaikilla alueilla. Kuitenkaan ei riitä, että dataa on määrättömästi saatavilla kaikesta vaan saatavilla olevasta datasta tulisi löytää olennainen, minkä seurauksena siitä voidaan tuottaa informaatiota sekä edelleen tietoa. \n",
    "\n",
    "Alla on listattuna oivalluksia sekä tärkeimmistä oppimiani asioista, joita luentoviikolla tuli vastaan:\n",
    "- Datatiede on monimutkainen ja -ulotteinen tieteenala\n",
    "- Tarinankerronta datan avulla (data storytelling) voi olla vaikuttava keino havainnollistaa käsillä olevaa dataa\n",
    "- Datan analysointiin ja visualisointiin ei välttämättä tarvita useita rivejä koodia vaan jo muutama voi tuottaa paljon tulosta, sillä kirjastot avustavat huomattavasti\n",
    "- Jupyter notebook on yllättävän käytännöllinen, sillä siinä voi samaan aikaan kirjoittaa normaalia tekstiä sekä ajaa koodia\n",
    "- Jo käytyjen kurssien seurauksena oma koodausosaamiseni ja -ymmärtämiseni on jo yllättävän hyvällä tasolla, sillä esimerkiksi demoluennolla käydyt asiat tuntuivat yllättävän helpoilta\n",
    "    - Tämä kurssi olisi mahdollisesti ollut vielä hyödyllisempää käydä aiemmin opinnoissa, jotta tämän kurssin kautta saatua osaamista olisi voinut soveltaa seuraaviin kursseihin ja mahdollisesti näin säästää itseä pään vaivalta \n",
    "\n",
    "Kehitysehdotuksena sanoisin, että olisi voinut olla hyödyllistä, jos oppimispäiväkirjan tekemisestä olisi puhuttu hieman enemmän luennolla. Esimerkiksi olisi voinut esittää esimerkin miten linkin oppimispäiväkirjaan kannattaisi jakaa ja yleisesti käydä hieman enemmän läpi Jupyter notebookin toimintaa, jotta oppimispäiväkirjan luominen sujuisi paremmin. Toisaalta netin avustuksella ja itse opetellessa jää oppi usein paremmin mieleen, joten ymmärrän myös sen miksei kaikkea kerrota suoraan. \n"
   ]
  },
  {
   "cell_type": "code",
   "execution_count": 4,
   "metadata": {},
   "outputs": [],
   "source": [
    "import pandas as pd"
   ]
  },
  {
   "cell_type": "code",
   "execution_count": 5,
   "metadata": {},
   "outputs": [
    {
     "name": "stdout",
     "output_type": "stream",
     "text": [
      "['United Kingdom', 'United States', 'Australia', 'Israel', 'France', 'Netherlands', 'Ireland', 'Canada', 'India', 'South Africa', 'Finland', 'Switzerland', 'Denmark', 'Belgium', 'Sweden', 'Norway', 'Luxembourg', 'Italy', 'Germany', 'Moldova', 'Spain', 'United Arab Emirates', 'Bahrain', 'Turkey', 'Kuwait', 'Malta', 'Hungary', 'Austria', 'Jersey', 'Malaysia', 'Iceland', 'South Korea', 'Brazil', 'New Zealand', 'Russia', 'Monaco', 'Hong Kong', 'Thailand', 'Bulgaria', 'Latvia', 'Poland', 'Philippines', 'Argentina', 'The Bahamas', 'Japan', 'Czech Republic', 'Cayman Isls', 'Ukraine', 'Dominican Republic', 'China', 'Greece', 'Costa Rica', 'Bermuda', 'Romania', 'Guatemala', 'Mauritius']\n"
     ]
    }
   ],
   "source": [
    "# Hyödynnetään demo-luennon datasettiä myyntidatasta\n",
    "url = 'https://github.com/jodatut/2020/raw/master/koodiesimerkit/SalesJan2009.csv'\n",
    "\n",
    "alkup_df = pd.read_csv(url)\n",
    "\n",
    "# Kopioidaan data, jottei tehdä muokkauksia alkuperäiseen dataan\n",
    "df = alkup_df.copy()\n",
    "\n",
    "maat = []\n",
    "\n",
    "for x in df['Country']:\n",
    "    if x not in maat:\n",
    "        maat.append(x)\n",
    "        \n",
    "print(maat)"
   ]
  },
  {
   "cell_type": "markdown",
   "metadata": {},
   "source": [
    "Yllä kuvattu koodipätkä havainnollistaa sitä, miten suurikin datasetti voidaan avata pythonin avulla ja miten sitä voidaan käsitellä. Demon tarkoituksena on selvittää, mistä eri maista ostoja on tehty. Tätä voisi seuraavilla opintoviikoilla kehittää esimerkiksi niin, että tekisi diagrammin siitä, miten ostot jakautuvat eri maiden kesken."
   ]
  },
  {
   "cell_type": "markdown",
   "metadata": {},
   "source": [
    "## Lähteet \n",
    "\n",
    "Huhtamäki, J. (2021). Johdanto datatieteeseen-kurssin luentomateriaalit. \n",
    "\n",
    "Rosling, H. (2007). The best stats you've ever seen. Saatavilla: https://www.youtube.com/watch?v=hVimVzgtD6w&ab_channel=TED (Katsottu 11.3.2021)."
   ]
  }
 ],
 "metadata": {
  "kernelspec": {
   "display_name": "Python 3",
   "language": "python",
   "name": "python3"
  },
  "language_info": {
   "codemirror_mode": {
    "name": "ipython",
    "version": 3
   },
   "file_extension": ".py",
   "mimetype": "text/x-python",
   "name": "python",
   "nbconvert_exporter": "python",
   "pygments_lexer": "ipython3",
   "version": "3.8.3"
  }
 },
 "nbformat": 4,
 "nbformat_minor": 4
}
